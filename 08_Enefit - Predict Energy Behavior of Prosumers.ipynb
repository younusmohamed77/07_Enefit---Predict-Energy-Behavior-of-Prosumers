{
 "cells": [
  {
   "cell_type": "markdown",
   "id": "c9270d5f",
   "metadata": {},
   "source": [
    "- The goal of the competition is to create an energy prediction model of prosumers to reduce energy imbalance costs.\n",
    "- This competition aims to tackle the issue of energy imbalance, a situation where the energy expected to be used doesn't line up with the actual energy used or produced. Prosumers, who both consume and generate energy, contribute a large part of the energy imbalance. Despite being only a small part of all consumers, their unpredictable energy use causes logistical and financial problems for the energy companies.\n",
    "\n",
    "https://www.kaggle.com/competitions/predict-energy-behavior-of-prosumers/overview"
   ]
  },
  {
   "cell_type": "markdown",
   "id": "d6fff76f",
   "metadata": {},
   "source": [
    "### Steps\n",
    "#### Preparing the environment\n",
    "1. Import the necessary libraries\n",
    "2. Reading the given files and checking the datasets"
   ]
  },
  {
   "cell_type": "code",
   "execution_count": 2,
   "id": "a99dd667",
   "metadata": {},
   "outputs": [],
   "source": [
    "import warnings\n",
    "warnings.filterwarnings('ignore')\n",
    "\n",
    "import matplotlib.pyplot as plt\n",
    "import numpy as np\n",
    "import os\n",
    "import pandas as pd\n",
    "import seaborn as sns\n",
    "\n",
    "sns.set()\n",
    "%matplotlib inline"
   ]
  },
  {
   "cell_type": "code",
   "execution_count": null,
   "id": "148e505f",
   "metadata": {},
   "outputs": [],
   "source": []
  }
 ],
 "metadata": {
  "kernelspec": {
   "display_name": "Python 3 (ipykernel)",
   "language": "python",
   "name": "python3"
  },
  "language_info": {
   "codemirror_mode": {
    "name": "ipython",
    "version": 3
   },
   "file_extension": ".py",
   "mimetype": "text/x-python",
   "name": "python",
   "nbconvert_exporter": "python",
   "pygments_lexer": "ipython3",
   "version": "3.11.5"
  }
 },
 "nbformat": 4,
 "nbformat_minor": 5
}
